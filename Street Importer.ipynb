{
 "cells": [
  {
   "cell_type": "markdown",
   "id": "f5a7340c",
   "metadata": {},
   "source": [
    "Copyright (c) 2022 Christian Oechler\n",
    "\n",
    "Permission is hereby granted, free of charge, to any person obtaining a copy of this software and associated documentation files (the \"Software\"), to deal in the Software without restriction, including without limitation the rights to use, copy, modify, merge, publish, distribute, sublicense, and/or sell copies of the Software, and to permit persons to whom the Software is furnished to do so, subject to the following conditions:\n",
    "\n",
    "The above copyright notice and this permission notice shall be included in all copies or substantial portions of the Software.\n",
    "\n",
    "THE SOFTWARE IS PROVIDED \"AS IS\", WITHOUT WARRANTY OF ANY KIND, EXPRESS OR IMPLIED, INCLUDING BUT NOT LIMITED TO THE WARRANTIES OF MERCHANTABILITY, FITNESS FOR A PARTICULAR PURPOSE AND NONINFRINGEMENT. IN NO EVENT SHALL THE AUTHORS OR COPYRIGHT HOLDERS BE LIABLE FOR ANY CLAIM, DAMAGES OR OTHER LIABILITY, WHETHER IN AN ACTION OF CONTRACT, TORT OR OTHERWISE, ARISING FROM, OUT OF OR IN CONNECTION WITH THE SOFTWARE OR THE USE OR OTHER DEALINGS IN THE SOFTWARE."
   ]
  },
  {
   "cell_type": "code",
   "execution_count": null,
   "id": "b48b9738",
   "metadata": {},
   "outputs": [],
   "source": [
    "!pip install beautifulsoup4\n",
    "!pip install lxml\n",
    "!pip install wikibaseintegrator==0.12"
   ]
  },
  {
   "cell_type": "code",
   "execution_count": null,
   "id": "b7e3c17b",
   "metadata": {},
   "outputs": [],
   "source": [
    "import json\n",
    "\n",
    "# Imports for the WikibaseIntegrator\n",
    "from wikibaseintegrator import WikibaseIntegrator\n",
    "from wikibaseintegrator import wbi_login as wbi_login\n",
    "from wikibaseintegrator.wbi_config import config as wbi_config\n",
    "from wikibaseintegrator import wbi_helpers as wbi_helpers\n",
    "from wikibaseintegrator.datatypes import Item, String, Time, URL\n",
    "from wikibaseintegrator.wbi_enums import WikibaseDatePrecision"
   ]
  },
  {
   "cell_type": "code",
   "execution_count": null,
   "id": "366da0d1",
   "metadata": {},
   "outputs": [],
   "source": [
    "'''\n",
    "Function returns the login credentials from the config file\n",
    "'''\n",
    "def get_login_credentials():\n",
    "    file_pointer = open(\"config.json\")\n",
    "    \n",
    "    # Reads the data from the config file\n",
    "    data = json.load(file_pointer)\n",
    "    \n",
    "    return data[\"login_name\"], data[\"login_password\"]"
   ]
  },
  {
   "cell_type": "code",
   "execution_count": null,
   "id": "7d4c4076",
   "metadata": {},
   "outputs": [],
   "source": [
    "'''\n",
    "Function return the server api address credentials from the config file \n",
    "'''\n",
    "def get_server_address_config():\n",
    "    file_pointer = open(\"config.json\")\n",
    "    \n",
    "    # Reads the data from the config file\n",
    "    data = json.load(file_pointer)\n",
    "    \n",
    "    return data[\"mediawiki_api\"], data[\"sparql_endpoint_url\"], data[\"wikibase_url\"]"
   ]
  },
  {
   "cell_type": "code",
   "execution_count": null,
   "id": "d07dcd53",
   "metadata": {},
   "outputs": [],
   "source": [
    "# Gets the login and the password for the wikibase database\n",
    "login, password = get_login_credentials()\n",
    "\n",
    "# Gets the config vailes für the wikibase server\n",
    "mediawiki_api, sparql_endpoint_url, wikibase_url = get_server_address_config()\n",
    "\n",
    "wbi_config['MEDIAWIKI_API_URL'] = mediawiki_api\n",
    "wbi_config['SPARQL_ENDPOINT_URL'] = sparql_endpoint_url\n",
    "wbi_config['WIKIBASE_URL'] = wikibase_url\n",
    "\n",
    "# Creates wikibase integrator instance\n",
    "login_instance = wbi_login.Clientlogin(user=login, password=password)\n",
    "wikiBaseIntegrator = WikibaseIntegrator(login=login_instance)"
   ]
  },
  {
   "cell_type": "markdown",
   "id": "46d8adee",
   "metadata": {},
   "source": [
    "## Schritt 1: Anlage der Kategorie für Straßen"
   ]
  },
  {
   "cell_type": "code",
   "execution_count": null,
   "id": "bdf10cbd",
   "metadata": {},
   "outputs": [],
   "source": [
    "category_id = None\n",
    "\n",
    "# Sends a search request to the mediawiki api to check if the category exists\n",
    "result = wbi_helpers.search_entities(search_string=\"Straße in Gießen\", search_type='item', language='de')\n",
    "\n",
    "# Saves the id of the item, if it exists or creates a new one\n",
    "if (len(result) > 0):\n",
    "    category_id = result[0]\n",
    "else:    \n",
    "    # Creates a new item for the wikibase database\n",
    "    item = wikiBaseIntegrator.item.new()\n",
    "\n",
    "    # Set a german label of the category \"Straße in Gießen\"\n",
    "    item.labels.set(language='de', value=\"Straße in Gießen\")\n",
    "\n",
    "    # Writing the item into wikibase database\n",
    "    item.write()\n",
    "    \n",
    "    # Saves the item ID from the write result\n",
    "    result = item.get_json()\n",
    "    \n",
    "    category_id = result[\"id\"]\n",
    "    \n",
    "print(\"INFO: The item id for the category is: {}\".format(category_id))"
   ]
  },
  {
   "cell_type": "markdown",
   "id": "edca6cc9",
   "metadata": {},
   "source": [
    "## Schritt 2: Import der Straßen in die Wikibase-Datenbank"
   ]
  },
  {
   "cell_type": "code",
   "execution_count": null,
   "id": "79b43459",
   "metadata": {},
   "outputs": [],
   "source": [
    "# Saves the property ids by given property names\n",
    "property_ids = {\n",
    "                 \"instance_of\": \"P15\",\n",
    "                 \"name\": \"P13\"\n",
    "}"
   ]
  },
  {
   "cell_type": "code",
   "execution_count": null,
   "id": "dca668bb",
   "metadata": {},
   "outputs": [],
   "source": [
    "# Opens the JSON-file with the streets\n",
    "file_pointer = open(\"streets.json\")\n",
    "\n",
    "# Reads the JSON-file with the sessions\n",
    "data = json.load(file_pointer)\n",
    "\n",
    "# Proposal counter\n",
    "counter = 0\n",
    "\n",
    "for street in data:\n",
    "    counter = counter + 1\n",
    "    \n",
    "    # Saves the properties of the item\n",
    "    properties = []\n",
    "    \n",
    "    # Sends a search request to the mediawiki api to check if the street already exists\n",
    "    result = wbi_helpers.search_entities(search_string=street[\"name\"][0:250], search_type='item', language='de')\n",
    "    \n",
    "    # Skips the adding of the street as a new item if it already exists\n",
    "    if (len(result) > 0):\n",
    "        print('Importing {} of {}: {} SKIPPED'.format(str(counter), str(len(data)), street[\"name\"]))\n",
    "        continue\n",
    "    \n",
    "    try:\n",
    "         # Creates a new item for the wikibase database\n",
    "        item = wikiBaseIntegrator.item.new()\n",
    "\n",
    "        # Set a german label of the street\n",
    "        item.labels.set(language='de', value=street[\"name\"][0:250])\n",
    "\n",
    "        # Add the category \"Straße in Gießen\" as property\n",
    "        instance_of_property = Item(value=category_id, prop_nr=property_ids[\"instance_of\"])\n",
    "        properties.append(instance_of_property)\n",
    "\n",
    "        # Add the name of the street as property\n",
    "        name_property = String(value=street[\"name\"], prop_nr=property_ids[\"name\"])\n",
    "        properties.append(name_property)\n",
    "\n",
    "        #Add the properties of the property list to the street item\n",
    "        item.claims.add(properties)\n",
    "\n",
    "        # Writing the item into wikibase database\n",
    "        item.write()\n",
    "        \n",
    "        # Get the id of the new created item of the street\n",
    "        result = item.get_json()\n",
    "        item_id = result[\"id\"]\n",
    "        \n",
    "        # Display the progress message\n",
    "        print('Importing {} of {}: {} ({})'.format(str(counter), str(len(data)), street[\"name\"], item_id))\n",
    "        \n",
    "        \n",
    "    except BaseException:\n",
    "        print('Importing {} of {}: {} FAILED'.format(str(counter), str(len(data)), street[\"name\"]))"
   ]
  }
 ],
 "metadata": {
  "kernelspec": {
   "display_name": "Python 3 (ipykernel)",
   "language": "python",
   "name": "python3"
  },
  "language_info": {
   "codemirror_mode": {
    "name": "ipython",
    "version": 3
   },
   "file_extension": ".py",
   "mimetype": "text/x-python",
   "name": "python",
   "nbconvert_exporter": "python",
   "pygments_lexer": "ipython3",
   "version": "3.10.6"
  }
 },
 "nbformat": 4,
 "nbformat_minor": 5
}
