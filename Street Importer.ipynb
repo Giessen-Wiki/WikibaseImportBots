{
 "cells": [
  {
   "cell_type": "markdown",
   "id": "f5a7340c",
   "metadata": {},
   "source": [
    "Copyright (c) 2022 Christian Oechler\n",
    "\n",
    "Permission is hereby granted, free of charge, to any person obtaining a copy of this software and associated documentation files (the \"Software\"), to deal in the Software without restriction, including without limitation the rights to use, copy, modify, merge, publish, distribute, sublicense, and/or sell copies of the Software, and to permit persons to whom the Software is furnished to do so, subject to the following conditions:\n",
    "\n",
    "The above copyright notice and this permission notice shall be included in all copies or substantial portions of the Software.\n",
    "\n",
    "THE SOFTWARE IS PROVIDED \"AS IS\", WITHOUT WARRANTY OF ANY KIND, EXPRESS OR IMPLIED, INCLUDING BUT NOT LIMITED TO THE WARRANTIES OF MERCHANTABILITY, FITNESS FOR A PARTICULAR PURPOSE AND NONINFRINGEMENT. IN NO EVENT SHALL THE AUTHORS OR COPYRIGHT HOLDERS BE LIABLE FOR ANY CLAIM, DAMAGES OR OTHER LIABILITY, WHETHER IN AN ACTION OF CONTRACT, TORT OR OTHERWISE, ARISING FROM, OUT OF OR IN CONNECTION WITH THE SOFTWARE OR THE USE OR OTHER DEALINGS IN THE SOFTWARE."
   ]
  },
  {
   "cell_type": "code",
   "execution_count": null,
   "id": "b48b9738",
   "metadata": {},
   "outputs": [],
   "source": [
    "!pip install beautifulsoup4\n",
    "!pip install lxml\n",
    "!pip install wikibaseintegrator==0.12"
   ]
  },
  {
   "cell_type": "code",
   "execution_count": null,
   "id": "b7e3c17b",
   "metadata": {},
   "outputs": [],
   "source": [
    "import json\n",
    "\n",
    "# Imports for the WikibaseIntegrator\n",
    "from wikibaseintegrator import WikibaseIntegrator\n",
    "from wikibaseintegrator import wbi_login as wbi_login\n",
    "from wikibaseintegrator.wbi_config import config as wbi_config\n",
    "from wikibaseintegrator import wbi_helpers as wbi_helpers\n",
    "from wikibaseintegrator.datatypes import Item, String, Time, URL\n",
    "from wikibaseintegrator.wbi_enums import WikibaseDatePrecision"
   ]
  },
  {
   "cell_type": "code",
   "execution_count": null,
   "id": "366da0d1",
   "metadata": {},
   "outputs": [],
   "source": [
    "'''\n",
    "Function returns the login credentials from the config file\n",
    "'''\n",
    "def get_login_credentials():\n",
    "    with open(\"config.json\") as file_pointer:\n",
    "        # Reads the data from the config file\n",
    "        data = json.load(file_pointer)\n",
    "    \n",
    "    return data[\"login_name\"], data[\"login_password\"]"
   ]
  },
  {
   "cell_type": "code",
   "execution_count": null,
   "id": "7d4c4076",
   "metadata": {},
   "outputs": [],
   "source": [
    "'''\n",
    "Function return the server api address credentials from the config file \n",
    "'''\n",
    "def get_server_address_config():\n",
    "    with open(\"config.json\") as file_pointer:\n",
    "        # Reads the data from the config file\n",
    "        data = json.load(file_pointer)\n",
    "    \n",
    "    return data[\"mediawiki_api\"], data[\"sparql_endpoint_url\"], data[\"wikibase_url\"]"
   ]
  },
  {
   "cell_type": "code",
   "execution_count": null,
   "id": "d07dcd53",
   "metadata": {},
   "outputs": [],
   "source": [
    "# Gets the login and the password for the wikibase database\n",
    "login, password = get_login_credentials()\n",
    "\n",
    "# Gets the config vailes für the wikibase server\n",
    "mediawiki_api, sparql_endpoint_url, wikibase_url = get_server_address_config()\n",
    "\n",
    "wbi_config['MEDIAWIKI_API_URL'] = mediawiki_api\n",
    "wbi_config['SPARQL_ENDPOINT_URL'] = sparql_endpoint_url\n",
    "wbi_config['WIKIBASE_URL'] = wikibase_url\n",
    "\n",
    "# Creates wikibase integrator instance\n",
    "login_instance = wbi_login.Clientlogin(user=login, password=password)\n",
    "wikiBaseIntegrator = WikibaseIntegrator(login=login_instance)"
   ]
  },
  {
   "cell_type": "markdown",
   "id": "46d8adee",
   "metadata": {},
   "source": [
    "## Schritt 1: Anlage der Kategorie für Straßen"
   ]
  },
  {
   "cell_type": "code",
   "execution_count": null,
   "id": "bdf10cbd",
   "metadata": {},
   "outputs": [],
   "source": [
    "category_id = None\n",
    "\n",
    "# Sends a search request to the mediawiki api to check if the category exists\n",
    "result = wbi_helpers.search_entities(search_string=\"Straße in Gießen\", search_type='item', language='de')\n",
    "\n",
    "# Saves the id of the item, if it exists or creates a new one\n",
    "if (len(result) > 0):\n",
    "    category_id = result[0]\n",
    "else:    \n",
    "    # Creates a new item for the wikibase database\n",
    "    item = wikiBaseIntegrator.item.new()\n",
    "\n",
    "    # Set a german label of the category \"Straße in Gießen\"\n",
    "    item.labels.set(language='de', value=\"Straße in Gießen\")\n",
    "\n",
    "    # Writing the item into wikibase database\n",
    "    item.write()\n",
    "    \n",
    "    # Saves the item ID from the write result\n",
    "    result = item.get_json()\n",
    "    \n",
    "    category_id = result[\"id\"]\n",
    "    \n",
    "print(\"INFO: The item id for the category is: {}\".format(category_id))"
   ]
  },
  {
   "cell_type": "markdown",
   "id": "b7da680e",
   "metadata": {},
   "source": [
    "## Schritt 2: Anlage der Eigenschaften für Straßen"
   ]
  },
  {
   "cell_type": "code",
   "execution_count": null,
   "id": "ec7aa4a9",
   "metadata": {},
   "outputs": [],
   "source": [
    "property_name_list = {}\n",
    "\n",
    "# Property of instance of the street(\"Instanz von\")\n",
    "property_name_list[\"instance_of\"] = {\"label\": \"Instanz von\", \"datatype\": \"string\"}\n",
    "\n",
    "# Property for the name of the street (\"Name\")\n",
    "property_name_list[\"name\"] = {\"label\": \"Name\", \"datatype\": \"string\"}"
   ]
  },
  {
   "cell_type": "code",
   "execution_count": null,
   "id": "2a467d7f",
   "metadata": {},
   "outputs": [],
   "source": [
    "# Saves the property ids by given property names\n",
    "property_ids = {}\n",
    "\n",
    "for key in property_name_list:\n",
    "    property_label = property_name_list[key][\"label\"]\n",
    "    property_datatype = property_name_list[key][\"datatype\"]\n",
    "    \n",
    "    result = wbi_helpers.search_entities(search_string=property_label, search_type='property', language='de')\n",
    "    \n",
    "    if len(result) > 0:\n",
    "        # Gets the property id and saves them in de property id list\n",
    "        property_ids[key] = result[0]\n",
    "    else:\n",
    "        # Builds the property\n",
    "        wikidata_property = wikiBaseIntegrator.property.new()\n",
    "        wikidata_property.labels.set(language='de', value=property_label)\n",
    "        wikidata_property.datatype = property_datatype\n",
    "        \n",
    "        # Writes the property to the wikibase instance\n",
    "        wikidata_property.write()\n",
    "        \n",
    "        # Gets the property id and saves them in de property id list\n",
    "        result = wikidata_property.get_json()\n",
    "        property_ids[key] = result[\"id\"]\n",
    "        \n",
    "    print(\"INFO: The id for the property \\\"{}\\\" is: {}\".format(property_label,property_ids[key]))"
   ]
  },
  {
   "cell_type": "markdown",
   "id": "edca6cc9",
   "metadata": {},
   "source": [
    "## Schritt 3: Import der Straßen in die Wikibase-Datenbank"
   ]
  },
  {
   "cell_type": "code",
   "execution_count": null,
   "id": "dca668bb",
   "metadata": {},
   "outputs": [],
   "source": [
    "# Opens the JSON-file with the streets\n",
    "with open(\"streets.json\") as file_pointer:\n",
    "    # Reads the JSON-file with the sessions\n",
    "    data = json.load(file_pointer)\n",
    "\n",
    "# Proposal counter\n",
    "counter = 0\n",
    "\n",
    "for street in data:\n",
    "    counter = counter + 1\n",
    "    \n",
    "    # Saves the properties of the item\n",
    "    properties = []\n",
    "    \n",
    "    # Sends a search request to the mediawiki api to check if the street already exists\n",
    "    result = wbi_helpers.search_entities(search_string=street[\"name\"][0:250], search_type='item', language='de')\n",
    "    \n",
    "    # Skips the adding of the street as a new item if it already exists\n",
    "    if (len(result) > 0):\n",
    "        print('Importing {} of {}: {} SKIPPED'.format(str(counter), str(len(data)), street[\"name\"]))\n",
    "        continue\n",
    "    \n",
    "    try:\n",
    "         # Creates a new item for the wikibase database\n",
    "        item = wikiBaseIntegrator.item.new()\n",
    "\n",
    "        # Set a german label of the street\n",
    "        item.labels.set(language='de', value=street[\"name\"][0:250])\n",
    "\n",
    "        # Add the category \"Straße in Gießen\" as property\n",
    "        instance_of_property = Item(value=category_id, prop_nr=property_ids[\"instance_of\"])\n",
    "        properties.append(instance_of_property)\n",
    "\n",
    "        # Add the name of the street as property\n",
    "        name_property = String(value=street[\"name\"], prop_nr=property_ids[\"name\"])\n",
    "        properties.append(name_property)\n",
    "\n",
    "        #Add the properties of the property list to the street item\n",
    "        item.claims.add(properties)\n",
    "\n",
    "        # Writing the item into wikibase database\n",
    "        item.write()\n",
    "        \n",
    "        # Get the id of the new created item of the street\n",
    "        result = item.get_json()\n",
    "        item_id = result[\"id\"]\n",
    "        \n",
    "        # Display the progress message\n",
    "        print('Importing {} of {}: {} ({})'.format(str(counter), str(len(data)), street[\"name\"], item_id))\n",
    "        \n",
    "        \n",
    "    except BaseException:\n",
    "        print('Importing {} of {}: {} FAILED'.format(str(counter), str(len(data)), street[\"name\"]))"
   ]
  },
  {
   "cell_type": "markdown",
   "id": "483af852",
   "metadata": {},
   "source": [
    "## Schritt 4: Erstellung der Wikipages für die Straßen"
   ]
  },
  {
   "cell_type": "code",
   "execution_count": null,
   "id": "f2ae625f",
   "metadata": {},
   "outputs": [],
   "source": [
    "# Opens the JSON-file with the streets\n",
    "with open(\"streets.json\") as file_pointer:\n",
    "    # Reads the JSON-file with the sessions\n",
    "    data = json.load(file_pointer)\n",
    "\n",
    "for street in data:\n",
    "    # Search the street as a category page\n",
    "    data_for_search = {\"action\": \"opensearch\", \"search\": \"Kategorie:\"+street[\"name\"]}\n",
    "    result = wbi_helpers.mediawiki_api_call_helper(data=data_for_search, login=login_instance)\n",
    "    \n",
    "    # Delete the category page of the street\n",
    "    if len(result[1]) > 0:\n",
    "        print('Deleting the category page for {}'.format(street[\"name\"]))\n",
    "        wbi_helpers.delete_page(title=\"Kategorie:\"+street[\"name\"], reason=\"Refactoring the structure.\", login=login_instance)\n",
    "    \n",
    "    # Search the street as a wiki page\n",
    "    data_for_search = {\"action\": \"opensearch\", \"search\": street[\"name\"]}\n",
    "    result = wbi_helpers.mediawiki_api_call_helper(data=data_for_search, login=login_instance)\n",
    "    \n",
    "    # Creates a wiki page for the street\n",
    "    if len(result[1]) == 0:\n",
    "        print('Creating wiki page for {}'.format(street[\"name\"]))\n",
    "        data_for_pagecreating = {\"action\": \"edit\", \"title\": street[\"name\"], \"text\": \"{{Vorlage:UnvollständigeSeite}}\"}\n",
    "        wbi_helpers.mediawiki_api_call_helper(data=data_for_pagecreating, login=login_instance)"
   ]
  }
 ],
 "metadata": {
  "kernelspec": {
   "display_name": "Python 3 (ipykernel)",
   "language": "python",
   "name": "python3"
  },
  "language_info": {
   "codemirror_mode": {
    "name": "ipython",
    "version": 3
   },
   "file_extension": ".py",
   "mimetype": "text/x-python",
   "name": "python",
   "nbconvert_exporter": "python",
   "pygments_lexer": "ipython3",
   "version": "3.10.6"
  }
 },
 "nbformat": 4,
 "nbformat_minor": 5
}
