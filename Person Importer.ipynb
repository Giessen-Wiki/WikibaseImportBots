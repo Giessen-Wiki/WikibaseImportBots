{
 "cells": [
  {
   "cell_type": "markdown",
   "id": "9dc0bbbd",
   "metadata": {},
   "source": [
    "Copyright (c) 2022 Christian Oechler\n",
    "\n",
    "Permission is hereby granted, free of charge, to any person obtaining a copy of this software and associated documentation files (the \"Software\"), to deal in the Software without restriction, including without limitation the rights to use, copy, modify, merge, publish, distribute, sublicense, and/or sell copies of the Software, and to permit persons to whom the Software is furnished to do so, subject to the following conditions:\n",
    "\n",
    "The above copyright notice and this permission notice shall be included in all copies or substantial portions of the Software.\n",
    "\n",
    "THE SOFTWARE IS PROVIDED \"AS IS\", WITHOUT WARRANTY OF ANY KIND, EXPRESS OR IMPLIED, INCLUDING BUT NOT LIMITED TO THE WARRANTIES OF MERCHANTABILITY, FITNESS FOR A PARTICULAR PURPOSE AND NONINFRINGEMENT. IN NO EVENT SHALL THE AUTHORS OR COPYRIGHT HOLDERS BE LIABLE FOR ANY CLAIM, DAMAGES OR OTHER LIABILITY, WHETHER IN AN ACTION OF CONTRACT, TORT OR OTHERWISE, ARISING FROM, OUT OF OR IN CONNECTION WITH THE SOFTWARE OR THE USE OR OTHER DEALINGS IN THE SOFTWARE."
   ]
  },
  {
   "cell_type": "code",
   "execution_count": null,
   "id": "8cc6f673",
   "metadata": {},
   "outputs": [],
   "source": [
    "!pip install wikibaseintegrator==0.12"
   ]
  },
  {
   "cell_type": "code",
   "execution_count": null,
   "id": "1fd38c78",
   "metadata": {},
   "outputs": [],
   "source": [
    "import json\n",
    "\n",
    "# Imports for the WikibaseIntegrator\n",
    "from wikibaseintegrator import WikibaseIntegrator\n",
    "from wikibaseintegrator import wbi_login as wbi_login\n",
    "from wikibaseintegrator.wbi_config import config as wbi_config\n",
    "from wikibaseintegrator import wbi_helpers as wbi_helpers\n",
    "from wikibaseintegrator.datatypes import Item, String, Time, URL\n",
    "from wikibaseintegrator.wbi_enums import WikibaseDatePrecision"
   ]
  },
  {
   "cell_type": "code",
   "execution_count": null,
   "id": "724dc69e",
   "metadata": {},
   "outputs": [],
   "source": [
    "'''\n",
    "Function returns the login credentials from the config file\n",
    "'''\n",
    "def get_login_credentials():\n",
    "    file_pointer = open(\"config.json\")\n",
    "    \n",
    "    # Reads the data from the config file\n",
    "    data = json.load(file_pointer)\n",
    "    \n",
    "    return data[\"login_name\"], data[\"login_password\"]"
   ]
  },
  {
   "cell_type": "code",
   "execution_count": null,
   "id": "7c172936",
   "metadata": {},
   "outputs": [],
   "source": [
    "'''\n",
    "Function return the server api address credentials from the config file \n",
    "'''\n",
    "def get_server_address_config():\n",
    "    file_pointer = open(\"config.json\")\n",
    "    \n",
    "    # Reads the data from the config file\n",
    "    data = json.load(file_pointer)\n",
    "    \n",
    "    return data[\"mediawiki_api\"], data[\"sparql_endpoint_url\"], data[\"wikibase_url\"]"
   ]
  },
  {
   "cell_type": "code",
   "execution_count": null,
   "id": "e5c0090c",
   "metadata": {},
   "outputs": [],
   "source": [
    "# Gets the login and the password for the wikibase database\n",
    "login, password = get_login_credentials()\n",
    "\n",
    "# Gets the config vailes für the wikibase server\n",
    "mediawiki_api, sparql_endpoint_url, wikibase_url = get_server_address_config()\n",
    "\n",
    "wbi_config['MEDIAWIKI_API_URL'] = mediawiki_api\n",
    "wbi_config['SPARQL_ENDPOINT_URL'] = sparql_endpoint_url\n",
    "wbi_config['WIKIBASE_URL'] = wikibase_url\n",
    "\n",
    "# Creates wikibase integrator instance\n",
    "login_instance = wbi_login.Clientlogin(user=login, password=password)\n",
    "wikiBaseIntegrator = WikibaseIntegrator(login=login_instance)"
   ]
  }
 ],
 "metadata": {
  "kernelspec": {
   "display_name": "Python 3 (ipykernel)",
   "language": "python",
   "name": "python3"
  },
  "language_info": {
   "codemirror_mode": {
    "name": "ipython",
    "version": 3
   },
   "file_extension": ".py",
   "mimetype": "text/x-python",
   "name": "python",
   "nbconvert_exporter": "python",
   "pygments_lexer": "ipython3",
   "version": "3.10.6"
  }
 },
 "nbformat": 4,
 "nbformat_minor": 5
}
